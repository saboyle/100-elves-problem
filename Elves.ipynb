{
 "cells": [
  {
   "cell_type": "markdown",
   "id": "418e8dfd-ad5d-48a5-aa29-4fb413e01938",
   "metadata": {},
   "source": [
    "# Elves in a Hotel\n",
    "\n",
    "## Thought exercise.\n",
    "\n",
    "In a hotel with 100 rooms there are a number of elves:\n",
    "* Type 1 - closes any open doors and opens any closed doors\n",
    "* Type 2 - goes to every other door and closes it if it's open, opens it if it's closed\n",
    "* Type 3 - goes to every 3rd door and closes it if it's open, opens it if it's closed\n",
    "* Type 4 - goes to every 4th door and closes it if it's open, opens it if it's closed\n",
    "\n",
    "If there are 100 elves who go through the hotel (ordered Type 1-4, 1-4 etc) and all doors are initially closed, how many doors are open when all the elves have walked through the hotel. \n",
    "\n",
    "## Exploration"
   ]
  },
  {
   "cell_type": "code",
   "execution_count": 127,
   "id": "317080b1-1668-475b-8ef1-eea64d61d391",
   "metadata": {},
   "outputs": [],
   "source": [
    "import copy\n",
    "from IPython.display import HTML"
   ]
  },
  {
   "cell_type": "code",
   "execution_count": 258,
   "id": "65c66792-54eb-4332-a496-0cd85c96a347",
   "metadata": {},
   "outputs": [],
   "source": [
    "def elf(elf_type:int, s:list[bool])->list:\n",
    "    s1 = copy.deepcopy(s)\n",
    "    for door_num, door in enumerate(s1):\n",
    "        if (((door_num + 1) % elf_type) == 0):\n",
    "            s1[door_num] = not door\n",
    "    return s1\n",
    "\n",
    "def all_closed(num_doors): return [False for door in range(num_doors)]\n",
    "\n",
    "def look(iter:int, s:list[bool])->None:\n",
    "    html = f\"{iter} : \"\n",
    "    for elem in s:\n",
    "        if elem:\n",
    "            html +=  \"<i class='fa fa-square' aria-hidden='true'></i>\"\n",
    "        else:\n",
    "            html +=  \"<i class='fa fa-square-o' aria-hidden='true'></i>\"\n",
    "\n",
    "    html += f\" - Number of open doors: {sum([1 for e in s if e])} / {len(s)}\"\n",
    "    \n",
    "    display(HTML(html))\n"
   ]
  },
  {
   "cell_type": "code",
   "execution_count": 303,
   "id": "2987c61a-b1e1-4f85-bc5c-d967b67c5edc",
   "metadata": {},
   "outputs": [
    {
     "data": {
      "text/html": [
       "0 : <i class='fa fa-square-o' aria-hidden='true'></i><i class='fa fa-square-o' aria-hidden='true'></i><i class='fa fa-square-o' aria-hidden='true'></i><i class='fa fa-square-o' aria-hidden='true'></i><i class='fa fa-square-o' aria-hidden='true'></i><i class='fa fa-square-o' aria-hidden='true'></i><i class='fa fa-square-o' aria-hidden='true'></i><i class='fa fa-square-o' aria-hidden='true'></i><i class='fa fa-square-o' aria-hidden='true'></i><i class='fa fa-square-o' aria-hidden='true'></i><i class='fa fa-square-o' aria-hidden='true'></i><i class='fa fa-square-o' aria-hidden='true'></i><i class='fa fa-square-o' aria-hidden='true'></i><i class='fa fa-square-o' aria-hidden='true'></i><i class='fa fa-square-o' aria-hidden='true'></i><i class='fa fa-square-o' aria-hidden='true'></i><i class='fa fa-square-o' aria-hidden='true'></i><i class='fa fa-square-o' aria-hidden='true'></i><i class='fa fa-square-o' aria-hidden='true'></i><i class='fa fa-square-o' aria-hidden='true'></i><i class='fa fa-square-o' aria-hidden='true'></i><i class='fa fa-square-o' aria-hidden='true'></i><i class='fa fa-square-o' aria-hidden='true'></i><i class='fa fa-square-o' aria-hidden='true'></i><i class='fa fa-square-o' aria-hidden='true'></i><i class='fa fa-square-o' aria-hidden='true'></i><i class='fa fa-square-o' aria-hidden='true'></i><i class='fa fa-square-o' aria-hidden='true'></i><i class='fa fa-square-o' aria-hidden='true'></i><i class='fa fa-square-o' aria-hidden='true'></i><i class='fa fa-square-o' aria-hidden='true'></i><i class='fa fa-square-o' aria-hidden='true'></i><i class='fa fa-square-o' aria-hidden='true'></i><i class='fa fa-square-o' aria-hidden='true'></i><i class='fa fa-square-o' aria-hidden='true'></i><i class='fa fa-square-o' aria-hidden='true'></i><i class='fa fa-square-o' aria-hidden='true'></i><i class='fa fa-square-o' aria-hidden='true'></i><i class='fa fa-square-o' aria-hidden='true'></i><i class='fa fa-square-o' aria-hidden='true'></i><i class='fa fa-square-o' aria-hidden='true'></i><i class='fa fa-square-o' aria-hidden='true'></i><i class='fa fa-square-o' aria-hidden='true'></i><i class='fa fa-square-o' aria-hidden='true'></i><i class='fa fa-square-o' aria-hidden='true'></i><i class='fa fa-square-o' aria-hidden='true'></i><i class='fa fa-square-o' aria-hidden='true'></i><i class='fa fa-square-o' aria-hidden='true'></i><i class='fa fa-square-o' aria-hidden='true'></i><i class='fa fa-square-o' aria-hidden='true'></i><i class='fa fa-square-o' aria-hidden='true'></i><i class='fa fa-square-o' aria-hidden='true'></i><i class='fa fa-square-o' aria-hidden='true'></i><i class='fa fa-square-o' aria-hidden='true'></i><i class='fa fa-square-o' aria-hidden='true'></i><i class='fa fa-square-o' aria-hidden='true'></i><i class='fa fa-square-o' aria-hidden='true'></i><i class='fa fa-square-o' aria-hidden='true'></i><i class='fa fa-square-o' aria-hidden='true'></i><i class='fa fa-square-o' aria-hidden='true'></i><i class='fa fa-square-o' aria-hidden='true'></i><i class='fa fa-square-o' aria-hidden='true'></i><i class='fa fa-square-o' aria-hidden='true'></i><i class='fa fa-square-o' aria-hidden='true'></i><i class='fa fa-square-o' aria-hidden='true'></i><i class='fa fa-square-o' aria-hidden='true'></i><i class='fa fa-square-o' aria-hidden='true'></i><i class='fa fa-square-o' aria-hidden='true'></i><i class='fa fa-square-o' aria-hidden='true'></i><i class='fa fa-square-o' aria-hidden='true'></i><i class='fa fa-square-o' aria-hidden='true'></i><i class='fa fa-square-o' aria-hidden='true'></i><i class='fa fa-square-o' aria-hidden='true'></i><i class='fa fa-square-o' aria-hidden='true'></i><i class='fa fa-square-o' aria-hidden='true'></i><i class='fa fa-square-o' aria-hidden='true'></i><i class='fa fa-square-o' aria-hidden='true'></i><i class='fa fa-square-o' aria-hidden='true'></i><i class='fa fa-square-o' aria-hidden='true'></i><i class='fa fa-square-o' aria-hidden='true'></i><i class='fa fa-square-o' aria-hidden='true'></i><i class='fa fa-square-o' aria-hidden='true'></i><i class='fa fa-square-o' aria-hidden='true'></i><i class='fa fa-square-o' aria-hidden='true'></i><i class='fa fa-square-o' aria-hidden='true'></i><i class='fa fa-square-o' aria-hidden='true'></i><i class='fa fa-square-o' aria-hidden='true'></i><i class='fa fa-square-o' aria-hidden='true'></i><i class='fa fa-square-o' aria-hidden='true'></i><i class='fa fa-square-o' aria-hidden='true'></i><i class='fa fa-square-o' aria-hidden='true'></i><i class='fa fa-square-o' aria-hidden='true'></i><i class='fa fa-square-o' aria-hidden='true'></i><i class='fa fa-square-o' aria-hidden='true'></i><i class='fa fa-square-o' aria-hidden='true'></i><i class='fa fa-square-o' aria-hidden='true'></i><i class='fa fa-square-o' aria-hidden='true'></i><i class='fa fa-square-o' aria-hidden='true'></i><i class='fa fa-square-o' aria-hidden='true'></i><i class='fa fa-square-o' aria-hidden='true'></i> - Number of open doors: 0 / 100"
      ],
      "text/plain": [
       "<IPython.core.display.HTML object>"
      ]
     },
     "metadata": {},
     "output_type": "display_data"
    }
   ],
   "source": [
    "s0=all_closed(num_doors = 100)\n",
    "look(0, s0)"
   ]
  },
  {
   "cell_type": "code",
   "execution_count": 260,
   "id": "a4fb6a83-9289-49d1-9ce1-914452bfafbb",
   "metadata": {},
   "outputs": [
    {
     "data": {
      "text/html": [
       "1 : <i class='fa fa-square' aria-hidden='true'></i><i class='fa fa-square' aria-hidden='true'></i><i class='fa fa-square' aria-hidden='true'></i><i class='fa fa-square' aria-hidden='true'></i><i class='fa fa-square' aria-hidden='true'></i><i class='fa fa-square' aria-hidden='true'></i><i class='fa fa-square' aria-hidden='true'></i><i class='fa fa-square' aria-hidden='true'></i><i class='fa fa-square' aria-hidden='true'></i><i class='fa fa-square' aria-hidden='true'></i><i class='fa fa-square' aria-hidden='true'></i><i class='fa fa-square' aria-hidden='true'></i><i class='fa fa-square' aria-hidden='true'></i><i class='fa fa-square' aria-hidden='true'></i><i class='fa fa-square' aria-hidden='true'></i><i class='fa fa-square' aria-hidden='true'></i><i class='fa fa-square' aria-hidden='true'></i><i class='fa fa-square' aria-hidden='true'></i><i class='fa fa-square' aria-hidden='true'></i><i class='fa fa-square' aria-hidden='true'></i><i class='fa fa-square' aria-hidden='true'></i><i class='fa fa-square' aria-hidden='true'></i><i class='fa fa-square' aria-hidden='true'></i><i class='fa fa-square' aria-hidden='true'></i><i class='fa fa-square' aria-hidden='true'></i><i class='fa fa-square' aria-hidden='true'></i><i class='fa fa-square' aria-hidden='true'></i><i class='fa fa-square' aria-hidden='true'></i><i class='fa fa-square' aria-hidden='true'></i><i class='fa fa-square' aria-hidden='true'></i><i class='fa fa-square' aria-hidden='true'></i><i class='fa fa-square' aria-hidden='true'></i><i class='fa fa-square' aria-hidden='true'></i><i class='fa fa-square' aria-hidden='true'></i><i class='fa fa-square' aria-hidden='true'></i><i class='fa fa-square' aria-hidden='true'></i><i class='fa fa-square' aria-hidden='true'></i><i class='fa fa-square' aria-hidden='true'></i><i class='fa fa-square' aria-hidden='true'></i><i class='fa fa-square' aria-hidden='true'></i><i class='fa fa-square' aria-hidden='true'></i><i class='fa fa-square' aria-hidden='true'></i><i class='fa fa-square' aria-hidden='true'></i><i class='fa fa-square' aria-hidden='true'></i><i class='fa fa-square' aria-hidden='true'></i><i class='fa fa-square' aria-hidden='true'></i><i class='fa fa-square' aria-hidden='true'></i><i class='fa fa-square' aria-hidden='true'></i><i class='fa fa-square' aria-hidden='true'></i><i class='fa fa-square' aria-hidden='true'></i><i class='fa fa-square' aria-hidden='true'></i><i class='fa fa-square' aria-hidden='true'></i><i class='fa fa-square' aria-hidden='true'></i><i class='fa fa-square' aria-hidden='true'></i><i class='fa fa-square' aria-hidden='true'></i><i class='fa fa-square' aria-hidden='true'></i><i class='fa fa-square' aria-hidden='true'></i><i class='fa fa-square' aria-hidden='true'></i><i class='fa fa-square' aria-hidden='true'></i><i class='fa fa-square' aria-hidden='true'></i><i class='fa fa-square' aria-hidden='true'></i><i class='fa fa-square' aria-hidden='true'></i><i class='fa fa-square' aria-hidden='true'></i><i class='fa fa-square' aria-hidden='true'></i><i class='fa fa-square' aria-hidden='true'></i><i class='fa fa-square' aria-hidden='true'></i><i class='fa fa-square' aria-hidden='true'></i><i class='fa fa-square' aria-hidden='true'></i><i class='fa fa-square' aria-hidden='true'></i><i class='fa fa-square' aria-hidden='true'></i><i class='fa fa-square' aria-hidden='true'></i><i class='fa fa-square' aria-hidden='true'></i><i class='fa fa-square' aria-hidden='true'></i><i class='fa fa-square' aria-hidden='true'></i><i class='fa fa-square' aria-hidden='true'></i><i class='fa fa-square' aria-hidden='true'></i><i class='fa fa-square' aria-hidden='true'></i><i class='fa fa-square' aria-hidden='true'></i><i class='fa fa-square' aria-hidden='true'></i><i class='fa fa-square' aria-hidden='true'></i><i class='fa fa-square' aria-hidden='true'></i><i class='fa fa-square' aria-hidden='true'></i><i class='fa fa-square' aria-hidden='true'></i><i class='fa fa-square' aria-hidden='true'></i><i class='fa fa-square' aria-hidden='true'></i><i class='fa fa-square' aria-hidden='true'></i><i class='fa fa-square' aria-hidden='true'></i><i class='fa fa-square' aria-hidden='true'></i><i class='fa fa-square' aria-hidden='true'></i><i class='fa fa-square' aria-hidden='true'></i><i class='fa fa-square' aria-hidden='true'></i><i class='fa fa-square' aria-hidden='true'></i><i class='fa fa-square' aria-hidden='true'></i><i class='fa fa-square' aria-hidden='true'></i><i class='fa fa-square' aria-hidden='true'></i><i class='fa fa-square' aria-hidden='true'></i><i class='fa fa-square' aria-hidden='true'></i><i class='fa fa-square' aria-hidden='true'></i><i class='fa fa-square' aria-hidden='true'></i><i class='fa fa-square' aria-hidden='true'></i> - Number of open doors: 100 / 100"
      ],
      "text/plain": [
       "<IPython.core.display.HTML object>"
      ]
     },
     "metadata": {},
     "output_type": "display_data"
    }
   ],
   "source": [
    "s1 = elf(1, s0)\n",
    "look(1, s1)"
   ]
  },
  {
   "cell_type": "code",
   "execution_count": 261,
   "id": "7e565ea9-434a-4ecd-8a40-5288217707da",
   "metadata": {},
   "outputs": [
    {
     "data": {
      "text/html": [
       "2 : <i class='fa fa-square' aria-hidden='true'></i><i class='fa fa-square-o' aria-hidden='true'></i><i class='fa fa-square' aria-hidden='true'></i><i class='fa fa-square-o' aria-hidden='true'></i><i class='fa fa-square' aria-hidden='true'></i><i class='fa fa-square-o' aria-hidden='true'></i><i class='fa fa-square' aria-hidden='true'></i><i class='fa fa-square-o' aria-hidden='true'></i><i class='fa fa-square' aria-hidden='true'></i><i class='fa fa-square-o' aria-hidden='true'></i><i class='fa fa-square' aria-hidden='true'></i><i class='fa fa-square-o' aria-hidden='true'></i><i class='fa fa-square' aria-hidden='true'></i><i class='fa fa-square-o' aria-hidden='true'></i><i class='fa fa-square' aria-hidden='true'></i><i class='fa fa-square-o' aria-hidden='true'></i><i class='fa fa-square' aria-hidden='true'></i><i class='fa fa-square-o' aria-hidden='true'></i><i class='fa fa-square' aria-hidden='true'></i><i class='fa fa-square-o' aria-hidden='true'></i><i class='fa fa-square' aria-hidden='true'></i><i class='fa fa-square-o' aria-hidden='true'></i><i class='fa fa-square' aria-hidden='true'></i><i class='fa fa-square-o' aria-hidden='true'></i><i class='fa fa-square' aria-hidden='true'></i><i class='fa fa-square-o' aria-hidden='true'></i><i class='fa fa-square' aria-hidden='true'></i><i class='fa fa-square-o' aria-hidden='true'></i><i class='fa fa-square' aria-hidden='true'></i><i class='fa fa-square-o' aria-hidden='true'></i><i class='fa fa-square' aria-hidden='true'></i><i class='fa fa-square-o' aria-hidden='true'></i><i class='fa fa-square' aria-hidden='true'></i><i class='fa fa-square-o' aria-hidden='true'></i><i class='fa fa-square' aria-hidden='true'></i><i class='fa fa-square-o' aria-hidden='true'></i><i class='fa fa-square' aria-hidden='true'></i><i class='fa fa-square-o' aria-hidden='true'></i><i class='fa fa-square' aria-hidden='true'></i><i class='fa fa-square-o' aria-hidden='true'></i><i class='fa fa-square' aria-hidden='true'></i><i class='fa fa-square-o' aria-hidden='true'></i><i class='fa fa-square' aria-hidden='true'></i><i class='fa fa-square-o' aria-hidden='true'></i><i class='fa fa-square' aria-hidden='true'></i><i class='fa fa-square-o' aria-hidden='true'></i><i class='fa fa-square' aria-hidden='true'></i><i class='fa fa-square-o' aria-hidden='true'></i><i class='fa fa-square' aria-hidden='true'></i><i class='fa fa-square-o' aria-hidden='true'></i><i class='fa fa-square' aria-hidden='true'></i><i class='fa fa-square-o' aria-hidden='true'></i><i class='fa fa-square' aria-hidden='true'></i><i class='fa fa-square-o' aria-hidden='true'></i><i class='fa fa-square' aria-hidden='true'></i><i class='fa fa-square-o' aria-hidden='true'></i><i class='fa fa-square' aria-hidden='true'></i><i class='fa fa-square-o' aria-hidden='true'></i><i class='fa fa-square' aria-hidden='true'></i><i class='fa fa-square-o' aria-hidden='true'></i><i class='fa fa-square' aria-hidden='true'></i><i class='fa fa-square-o' aria-hidden='true'></i><i class='fa fa-square' aria-hidden='true'></i><i class='fa fa-square-o' aria-hidden='true'></i><i class='fa fa-square' aria-hidden='true'></i><i class='fa fa-square-o' aria-hidden='true'></i><i class='fa fa-square' aria-hidden='true'></i><i class='fa fa-square-o' aria-hidden='true'></i><i class='fa fa-square' aria-hidden='true'></i><i class='fa fa-square-o' aria-hidden='true'></i><i class='fa fa-square' aria-hidden='true'></i><i class='fa fa-square-o' aria-hidden='true'></i><i class='fa fa-square' aria-hidden='true'></i><i class='fa fa-square-o' aria-hidden='true'></i><i class='fa fa-square' aria-hidden='true'></i><i class='fa fa-square-o' aria-hidden='true'></i><i class='fa fa-square' aria-hidden='true'></i><i class='fa fa-square-o' aria-hidden='true'></i><i class='fa fa-square' aria-hidden='true'></i><i class='fa fa-square-o' aria-hidden='true'></i><i class='fa fa-square' aria-hidden='true'></i><i class='fa fa-square-o' aria-hidden='true'></i><i class='fa fa-square' aria-hidden='true'></i><i class='fa fa-square-o' aria-hidden='true'></i><i class='fa fa-square' aria-hidden='true'></i><i class='fa fa-square-o' aria-hidden='true'></i><i class='fa fa-square' aria-hidden='true'></i><i class='fa fa-square-o' aria-hidden='true'></i><i class='fa fa-square' aria-hidden='true'></i><i class='fa fa-square-o' aria-hidden='true'></i><i class='fa fa-square' aria-hidden='true'></i><i class='fa fa-square-o' aria-hidden='true'></i><i class='fa fa-square' aria-hidden='true'></i><i class='fa fa-square-o' aria-hidden='true'></i><i class='fa fa-square' aria-hidden='true'></i><i class='fa fa-square-o' aria-hidden='true'></i><i class='fa fa-square' aria-hidden='true'></i><i class='fa fa-square-o' aria-hidden='true'></i><i class='fa fa-square' aria-hidden='true'></i><i class='fa fa-square-o' aria-hidden='true'></i> - Number of open doors: 50 / 100"
      ],
      "text/plain": [
       "<IPython.core.display.HTML object>"
      ]
     },
     "metadata": {},
     "output_type": "display_data"
    }
   ],
   "source": [
    "s2 = elf(2, s1)\n",
    "look(2, s2)"
   ]
  },
  {
   "cell_type": "code",
   "execution_count": 262,
   "id": "f51dc083-fea7-461f-ae24-7572119e57e5",
   "metadata": {},
   "outputs": [
    {
     "data": {
      "text/html": [
       "3 : <i class='fa fa-square' aria-hidden='true'></i><i class='fa fa-square-o' aria-hidden='true'></i><i class='fa fa-square-o' aria-hidden='true'></i><i class='fa fa-square-o' aria-hidden='true'></i><i class='fa fa-square' aria-hidden='true'></i><i class='fa fa-square' aria-hidden='true'></i><i class='fa fa-square' aria-hidden='true'></i><i class='fa fa-square-o' aria-hidden='true'></i><i class='fa fa-square-o' aria-hidden='true'></i><i class='fa fa-square-o' aria-hidden='true'></i><i class='fa fa-square' aria-hidden='true'></i><i class='fa fa-square' aria-hidden='true'></i><i class='fa fa-square' aria-hidden='true'></i><i class='fa fa-square-o' aria-hidden='true'></i><i class='fa fa-square-o' aria-hidden='true'></i><i class='fa fa-square-o' aria-hidden='true'></i><i class='fa fa-square' aria-hidden='true'></i><i class='fa fa-square' aria-hidden='true'></i><i class='fa fa-square' aria-hidden='true'></i><i class='fa fa-square-o' aria-hidden='true'></i><i class='fa fa-square-o' aria-hidden='true'></i><i class='fa fa-square-o' aria-hidden='true'></i><i class='fa fa-square' aria-hidden='true'></i><i class='fa fa-square' aria-hidden='true'></i><i class='fa fa-square' aria-hidden='true'></i><i class='fa fa-square-o' aria-hidden='true'></i><i class='fa fa-square-o' aria-hidden='true'></i><i class='fa fa-square-o' aria-hidden='true'></i><i class='fa fa-square' aria-hidden='true'></i><i class='fa fa-square' aria-hidden='true'></i><i class='fa fa-square' aria-hidden='true'></i><i class='fa fa-square-o' aria-hidden='true'></i><i class='fa fa-square-o' aria-hidden='true'></i><i class='fa fa-square-o' aria-hidden='true'></i><i class='fa fa-square' aria-hidden='true'></i><i class='fa fa-square' aria-hidden='true'></i><i class='fa fa-square' aria-hidden='true'></i><i class='fa fa-square-o' aria-hidden='true'></i><i class='fa fa-square-o' aria-hidden='true'></i><i class='fa fa-square-o' aria-hidden='true'></i><i class='fa fa-square' aria-hidden='true'></i><i class='fa fa-square' aria-hidden='true'></i><i class='fa fa-square' aria-hidden='true'></i><i class='fa fa-square-o' aria-hidden='true'></i><i class='fa fa-square-o' aria-hidden='true'></i><i class='fa fa-square-o' aria-hidden='true'></i><i class='fa fa-square' aria-hidden='true'></i><i class='fa fa-square' aria-hidden='true'></i><i class='fa fa-square' aria-hidden='true'></i><i class='fa fa-square-o' aria-hidden='true'></i><i class='fa fa-square-o' aria-hidden='true'></i><i class='fa fa-square-o' aria-hidden='true'></i><i class='fa fa-square' aria-hidden='true'></i><i class='fa fa-square' aria-hidden='true'></i><i class='fa fa-square' aria-hidden='true'></i><i class='fa fa-square-o' aria-hidden='true'></i><i class='fa fa-square-o' aria-hidden='true'></i><i class='fa fa-square-o' aria-hidden='true'></i><i class='fa fa-square' aria-hidden='true'></i><i class='fa fa-square' aria-hidden='true'></i><i class='fa fa-square' aria-hidden='true'></i><i class='fa fa-square-o' aria-hidden='true'></i><i class='fa fa-square-o' aria-hidden='true'></i><i class='fa fa-square-o' aria-hidden='true'></i><i class='fa fa-square' aria-hidden='true'></i><i class='fa fa-square' aria-hidden='true'></i><i class='fa fa-square' aria-hidden='true'></i><i class='fa fa-square-o' aria-hidden='true'></i><i class='fa fa-square-o' aria-hidden='true'></i><i class='fa fa-square-o' aria-hidden='true'></i><i class='fa fa-square' aria-hidden='true'></i><i class='fa fa-square' aria-hidden='true'></i><i class='fa fa-square' aria-hidden='true'></i><i class='fa fa-square-o' aria-hidden='true'></i><i class='fa fa-square-o' aria-hidden='true'></i><i class='fa fa-square-o' aria-hidden='true'></i><i class='fa fa-square' aria-hidden='true'></i><i class='fa fa-square' aria-hidden='true'></i><i class='fa fa-square' aria-hidden='true'></i><i class='fa fa-square-o' aria-hidden='true'></i><i class='fa fa-square-o' aria-hidden='true'></i><i class='fa fa-square-o' aria-hidden='true'></i><i class='fa fa-square' aria-hidden='true'></i><i class='fa fa-square' aria-hidden='true'></i><i class='fa fa-square' aria-hidden='true'></i><i class='fa fa-square-o' aria-hidden='true'></i><i class='fa fa-square-o' aria-hidden='true'></i><i class='fa fa-square-o' aria-hidden='true'></i><i class='fa fa-square' aria-hidden='true'></i><i class='fa fa-square' aria-hidden='true'></i><i class='fa fa-square' aria-hidden='true'></i><i class='fa fa-square-o' aria-hidden='true'></i><i class='fa fa-square-o' aria-hidden='true'></i><i class='fa fa-square-o' aria-hidden='true'></i><i class='fa fa-square' aria-hidden='true'></i><i class='fa fa-square' aria-hidden='true'></i><i class='fa fa-square' aria-hidden='true'></i><i class='fa fa-square-o' aria-hidden='true'></i><i class='fa fa-square-o' aria-hidden='true'></i><i class='fa fa-square-o' aria-hidden='true'></i> - Number of open doors: 49 / 100"
      ],
      "text/plain": [
       "<IPython.core.display.HTML object>"
      ]
     },
     "metadata": {},
     "output_type": "display_data"
    }
   ],
   "source": [
    "s3 = elf(3, s2)\n",
    "look(3, s3)"
   ]
  },
  {
   "cell_type": "code",
   "execution_count": 263,
   "id": "50e7503c-efed-4960-a4c6-c6ae152bf013",
   "metadata": {},
   "outputs": [
    {
     "data": {
      "text/html": [
       "4 : <i class='fa fa-square' aria-hidden='true'></i><i class='fa fa-square-o' aria-hidden='true'></i><i class='fa fa-square-o' aria-hidden='true'></i><i class='fa fa-square' aria-hidden='true'></i><i class='fa fa-square' aria-hidden='true'></i><i class='fa fa-square' aria-hidden='true'></i><i class='fa fa-square' aria-hidden='true'></i><i class='fa fa-square' aria-hidden='true'></i><i class='fa fa-square-o' aria-hidden='true'></i><i class='fa fa-square-o' aria-hidden='true'></i><i class='fa fa-square' aria-hidden='true'></i><i class='fa fa-square-o' aria-hidden='true'></i><i class='fa fa-square' aria-hidden='true'></i><i class='fa fa-square-o' aria-hidden='true'></i><i class='fa fa-square-o' aria-hidden='true'></i><i class='fa fa-square' aria-hidden='true'></i><i class='fa fa-square' aria-hidden='true'></i><i class='fa fa-square' aria-hidden='true'></i><i class='fa fa-square' aria-hidden='true'></i><i class='fa fa-square' aria-hidden='true'></i><i class='fa fa-square-o' aria-hidden='true'></i><i class='fa fa-square-o' aria-hidden='true'></i><i class='fa fa-square' aria-hidden='true'></i><i class='fa fa-square-o' aria-hidden='true'></i><i class='fa fa-square' aria-hidden='true'></i><i class='fa fa-square-o' aria-hidden='true'></i><i class='fa fa-square-o' aria-hidden='true'></i><i class='fa fa-square' aria-hidden='true'></i><i class='fa fa-square' aria-hidden='true'></i><i class='fa fa-square' aria-hidden='true'></i><i class='fa fa-square' aria-hidden='true'></i><i class='fa fa-square' aria-hidden='true'></i><i class='fa fa-square-o' aria-hidden='true'></i><i class='fa fa-square-o' aria-hidden='true'></i><i class='fa fa-square' aria-hidden='true'></i><i class='fa fa-square-o' aria-hidden='true'></i><i class='fa fa-square' aria-hidden='true'></i><i class='fa fa-square-o' aria-hidden='true'></i><i class='fa fa-square-o' aria-hidden='true'></i><i class='fa fa-square' aria-hidden='true'></i><i class='fa fa-square' aria-hidden='true'></i><i class='fa fa-square' aria-hidden='true'></i><i class='fa fa-square' aria-hidden='true'></i><i class='fa fa-square' aria-hidden='true'></i><i class='fa fa-square-o' aria-hidden='true'></i><i class='fa fa-square-o' aria-hidden='true'></i><i class='fa fa-square' aria-hidden='true'></i><i class='fa fa-square-o' aria-hidden='true'></i><i class='fa fa-square' aria-hidden='true'></i><i class='fa fa-square-o' aria-hidden='true'></i><i class='fa fa-square-o' aria-hidden='true'></i><i class='fa fa-square' aria-hidden='true'></i><i class='fa fa-square' aria-hidden='true'></i><i class='fa fa-square' aria-hidden='true'></i><i class='fa fa-square' aria-hidden='true'></i><i class='fa fa-square' aria-hidden='true'></i><i class='fa fa-square-o' aria-hidden='true'></i><i class='fa fa-square-o' aria-hidden='true'></i><i class='fa fa-square' aria-hidden='true'></i><i class='fa fa-square-o' aria-hidden='true'></i><i class='fa fa-square' aria-hidden='true'></i><i class='fa fa-square-o' aria-hidden='true'></i><i class='fa fa-square-o' aria-hidden='true'></i><i class='fa fa-square' aria-hidden='true'></i><i class='fa fa-square' aria-hidden='true'></i><i class='fa fa-square' aria-hidden='true'></i><i class='fa fa-square' aria-hidden='true'></i><i class='fa fa-square' aria-hidden='true'></i><i class='fa fa-square-o' aria-hidden='true'></i><i class='fa fa-square-o' aria-hidden='true'></i><i class='fa fa-square' aria-hidden='true'></i><i class='fa fa-square-o' aria-hidden='true'></i><i class='fa fa-square' aria-hidden='true'></i><i class='fa fa-square-o' aria-hidden='true'></i><i class='fa fa-square-o' aria-hidden='true'></i><i class='fa fa-square' aria-hidden='true'></i><i class='fa fa-square' aria-hidden='true'></i><i class='fa fa-square' aria-hidden='true'></i><i class='fa fa-square' aria-hidden='true'></i><i class='fa fa-square' aria-hidden='true'></i><i class='fa fa-square-o' aria-hidden='true'></i><i class='fa fa-square-o' aria-hidden='true'></i><i class='fa fa-square' aria-hidden='true'></i><i class='fa fa-square-o' aria-hidden='true'></i><i class='fa fa-square' aria-hidden='true'></i><i class='fa fa-square-o' aria-hidden='true'></i><i class='fa fa-square-o' aria-hidden='true'></i><i class='fa fa-square' aria-hidden='true'></i><i class='fa fa-square' aria-hidden='true'></i><i class='fa fa-square' aria-hidden='true'></i><i class='fa fa-square' aria-hidden='true'></i><i class='fa fa-square' aria-hidden='true'></i><i class='fa fa-square-o' aria-hidden='true'></i><i class='fa fa-square-o' aria-hidden='true'></i><i class='fa fa-square' aria-hidden='true'></i><i class='fa fa-square-o' aria-hidden='true'></i><i class='fa fa-square' aria-hidden='true'></i><i class='fa fa-square-o' aria-hidden='true'></i><i class='fa fa-square-o' aria-hidden='true'></i><i class='fa fa-square' aria-hidden='true'></i> - Number of open doors: 58 / 100"
      ],
      "text/plain": [
       "<IPython.core.display.HTML object>"
      ]
     },
     "metadata": {},
     "output_type": "display_data"
    }
   ],
   "source": [
    "s4 = elf(4, s3)\n",
    "look(4, s4)"
   ]
  },
  {
   "cell_type": "code",
   "execution_count": 264,
   "id": "db6ecefd-ffaf-418d-8b11-14ca6fbdcd7f",
   "metadata": {},
   "outputs": [
    {
     "data": {
      "text/html": [
       "5 : <i class='fa fa-square-o' aria-hidden='true'></i><i class='fa fa-square' aria-hidden='true'></i><i class='fa fa-square' aria-hidden='true'></i><i class='fa fa-square-o' aria-hidden='true'></i><i class='fa fa-square-o' aria-hidden='true'></i><i class='fa fa-square-o' aria-hidden='true'></i><i class='fa fa-square-o' aria-hidden='true'></i><i class='fa fa-square-o' aria-hidden='true'></i><i class='fa fa-square' aria-hidden='true'></i><i class='fa fa-square' aria-hidden='true'></i><i class='fa fa-square-o' aria-hidden='true'></i><i class='fa fa-square' aria-hidden='true'></i><i class='fa fa-square-o' aria-hidden='true'></i><i class='fa fa-square' aria-hidden='true'></i><i class='fa fa-square' aria-hidden='true'></i><i class='fa fa-square-o' aria-hidden='true'></i><i class='fa fa-square-o' aria-hidden='true'></i><i class='fa fa-square-o' aria-hidden='true'></i><i class='fa fa-square-o' aria-hidden='true'></i><i class='fa fa-square-o' aria-hidden='true'></i><i class='fa fa-square' aria-hidden='true'></i><i class='fa fa-square' aria-hidden='true'></i><i class='fa fa-square-o' aria-hidden='true'></i><i class='fa fa-square' aria-hidden='true'></i><i class='fa fa-square-o' aria-hidden='true'></i><i class='fa fa-square' aria-hidden='true'></i><i class='fa fa-square' aria-hidden='true'></i><i class='fa fa-square-o' aria-hidden='true'></i><i class='fa fa-square-o' aria-hidden='true'></i><i class='fa fa-square-o' aria-hidden='true'></i><i class='fa fa-square-o' aria-hidden='true'></i><i class='fa fa-square-o' aria-hidden='true'></i><i class='fa fa-square' aria-hidden='true'></i><i class='fa fa-square' aria-hidden='true'></i><i class='fa fa-square-o' aria-hidden='true'></i><i class='fa fa-square' aria-hidden='true'></i><i class='fa fa-square-o' aria-hidden='true'></i><i class='fa fa-square' aria-hidden='true'></i><i class='fa fa-square' aria-hidden='true'></i><i class='fa fa-square-o' aria-hidden='true'></i><i class='fa fa-square-o' aria-hidden='true'></i><i class='fa fa-square-o' aria-hidden='true'></i><i class='fa fa-square-o' aria-hidden='true'></i><i class='fa fa-square-o' aria-hidden='true'></i><i class='fa fa-square' aria-hidden='true'></i><i class='fa fa-square' aria-hidden='true'></i><i class='fa fa-square-o' aria-hidden='true'></i><i class='fa fa-square' aria-hidden='true'></i><i class='fa fa-square-o' aria-hidden='true'></i><i class='fa fa-square' aria-hidden='true'></i><i class='fa fa-square' aria-hidden='true'></i><i class='fa fa-square-o' aria-hidden='true'></i><i class='fa fa-square-o' aria-hidden='true'></i><i class='fa fa-square-o' aria-hidden='true'></i><i class='fa fa-square-o' aria-hidden='true'></i><i class='fa fa-square-o' aria-hidden='true'></i><i class='fa fa-square' aria-hidden='true'></i><i class='fa fa-square' aria-hidden='true'></i><i class='fa fa-square-o' aria-hidden='true'></i><i class='fa fa-square' aria-hidden='true'></i><i class='fa fa-square-o' aria-hidden='true'></i><i class='fa fa-square' aria-hidden='true'></i><i class='fa fa-square' aria-hidden='true'></i><i class='fa fa-square-o' aria-hidden='true'></i><i class='fa fa-square-o' aria-hidden='true'></i><i class='fa fa-square-o' aria-hidden='true'></i><i class='fa fa-square-o' aria-hidden='true'></i><i class='fa fa-square-o' aria-hidden='true'></i><i class='fa fa-square' aria-hidden='true'></i><i class='fa fa-square' aria-hidden='true'></i><i class='fa fa-square-o' aria-hidden='true'></i><i class='fa fa-square' aria-hidden='true'></i><i class='fa fa-square-o' aria-hidden='true'></i><i class='fa fa-square' aria-hidden='true'></i><i class='fa fa-square' aria-hidden='true'></i><i class='fa fa-square-o' aria-hidden='true'></i><i class='fa fa-square-o' aria-hidden='true'></i><i class='fa fa-square-o' aria-hidden='true'></i><i class='fa fa-square-o' aria-hidden='true'></i><i class='fa fa-square-o' aria-hidden='true'></i><i class='fa fa-square' aria-hidden='true'></i><i class='fa fa-square' aria-hidden='true'></i><i class='fa fa-square-o' aria-hidden='true'></i><i class='fa fa-square' aria-hidden='true'></i><i class='fa fa-square-o' aria-hidden='true'></i><i class='fa fa-square' aria-hidden='true'></i><i class='fa fa-square' aria-hidden='true'></i><i class='fa fa-square-o' aria-hidden='true'></i><i class='fa fa-square-o' aria-hidden='true'></i><i class='fa fa-square-o' aria-hidden='true'></i><i class='fa fa-square-o' aria-hidden='true'></i><i class='fa fa-square-o' aria-hidden='true'></i><i class='fa fa-square' aria-hidden='true'></i><i class='fa fa-square' aria-hidden='true'></i><i class='fa fa-square-o' aria-hidden='true'></i><i class='fa fa-square' aria-hidden='true'></i><i class='fa fa-square-o' aria-hidden='true'></i><i class='fa fa-square' aria-hidden='true'></i><i class='fa fa-square' aria-hidden='true'></i><i class='fa fa-square-o' aria-hidden='true'></i> - Number of open doors: 42 / 100"
      ],
      "text/plain": [
       "<IPython.core.display.HTML object>"
      ]
     },
     "metadata": {},
     "output_type": "display_data"
    }
   ],
   "source": [
    "s5 = elf(1, s4)\n",
    "look(5, s5)"
   ]
  },
  {
   "cell_type": "code",
   "execution_count": 265,
   "id": "52ceec04-8dbd-40b0-b972-dae4a864dd42",
   "metadata": {},
   "outputs": [
    {
     "data": {
      "text/html": [
       "6 : <i class='fa fa-square-o' aria-hidden='true'></i><i class='fa fa-square-o' aria-hidden='true'></i><i class='fa fa-square' aria-hidden='true'></i><i class='fa fa-square' aria-hidden='true'></i><i class='fa fa-square-o' aria-hidden='true'></i><i class='fa fa-square' aria-hidden='true'></i><i class='fa fa-square-o' aria-hidden='true'></i><i class='fa fa-square' aria-hidden='true'></i><i class='fa fa-square' aria-hidden='true'></i><i class='fa fa-square-o' aria-hidden='true'></i><i class='fa fa-square-o' aria-hidden='true'></i><i class='fa fa-square-o' aria-hidden='true'></i><i class='fa fa-square-o' aria-hidden='true'></i><i class='fa fa-square-o' aria-hidden='true'></i><i class='fa fa-square' aria-hidden='true'></i><i class='fa fa-square' aria-hidden='true'></i><i class='fa fa-square-o' aria-hidden='true'></i><i class='fa fa-square' aria-hidden='true'></i><i class='fa fa-square-o' aria-hidden='true'></i><i class='fa fa-square' aria-hidden='true'></i><i class='fa fa-square' aria-hidden='true'></i><i class='fa fa-square-o' aria-hidden='true'></i><i class='fa fa-square-o' aria-hidden='true'></i><i class='fa fa-square-o' aria-hidden='true'></i><i class='fa fa-square-o' aria-hidden='true'></i><i class='fa fa-square-o' aria-hidden='true'></i><i class='fa fa-square' aria-hidden='true'></i><i class='fa fa-square' aria-hidden='true'></i><i class='fa fa-square-o' aria-hidden='true'></i><i class='fa fa-square' aria-hidden='true'></i><i class='fa fa-square-o' aria-hidden='true'></i><i class='fa fa-square' aria-hidden='true'></i><i class='fa fa-square' aria-hidden='true'></i><i class='fa fa-square-o' aria-hidden='true'></i><i class='fa fa-square-o' aria-hidden='true'></i><i class='fa fa-square-o' aria-hidden='true'></i><i class='fa fa-square-o' aria-hidden='true'></i><i class='fa fa-square-o' aria-hidden='true'></i><i class='fa fa-square' aria-hidden='true'></i><i class='fa fa-square' aria-hidden='true'></i><i class='fa fa-square-o' aria-hidden='true'></i><i class='fa fa-square' aria-hidden='true'></i><i class='fa fa-square-o' aria-hidden='true'></i><i class='fa fa-square' aria-hidden='true'></i><i class='fa fa-square' aria-hidden='true'></i><i class='fa fa-square-o' aria-hidden='true'></i><i class='fa fa-square-o' aria-hidden='true'></i><i class='fa fa-square-o' aria-hidden='true'></i><i class='fa fa-square-o' aria-hidden='true'></i><i class='fa fa-square-o' aria-hidden='true'></i><i class='fa fa-square' aria-hidden='true'></i><i class='fa fa-square' aria-hidden='true'></i><i class='fa fa-square-o' aria-hidden='true'></i><i class='fa fa-square' aria-hidden='true'></i><i class='fa fa-square-o' aria-hidden='true'></i><i class='fa fa-square' aria-hidden='true'></i><i class='fa fa-square' aria-hidden='true'></i><i class='fa fa-square-o' aria-hidden='true'></i><i class='fa fa-square-o' aria-hidden='true'></i><i class='fa fa-square-o' aria-hidden='true'></i><i class='fa fa-square-o' aria-hidden='true'></i><i class='fa fa-square-o' aria-hidden='true'></i><i class='fa fa-square' aria-hidden='true'></i><i class='fa fa-square' aria-hidden='true'></i><i class='fa fa-square-o' aria-hidden='true'></i><i class='fa fa-square' aria-hidden='true'></i><i class='fa fa-square-o' aria-hidden='true'></i><i class='fa fa-square' aria-hidden='true'></i><i class='fa fa-square' aria-hidden='true'></i><i class='fa fa-square-o' aria-hidden='true'></i><i class='fa fa-square-o' aria-hidden='true'></i><i class='fa fa-square-o' aria-hidden='true'></i><i class='fa fa-square-o' aria-hidden='true'></i><i class='fa fa-square-o' aria-hidden='true'></i><i class='fa fa-square' aria-hidden='true'></i><i class='fa fa-square' aria-hidden='true'></i><i class='fa fa-square-o' aria-hidden='true'></i><i class='fa fa-square' aria-hidden='true'></i><i class='fa fa-square-o' aria-hidden='true'></i><i class='fa fa-square' aria-hidden='true'></i><i class='fa fa-square' aria-hidden='true'></i><i class='fa fa-square-o' aria-hidden='true'></i><i class='fa fa-square-o' aria-hidden='true'></i><i class='fa fa-square-o' aria-hidden='true'></i><i class='fa fa-square-o' aria-hidden='true'></i><i class='fa fa-square-o' aria-hidden='true'></i><i class='fa fa-square' aria-hidden='true'></i><i class='fa fa-square' aria-hidden='true'></i><i class='fa fa-square-o' aria-hidden='true'></i><i class='fa fa-square' aria-hidden='true'></i><i class='fa fa-square-o' aria-hidden='true'></i><i class='fa fa-square' aria-hidden='true'></i><i class='fa fa-square' aria-hidden='true'></i><i class='fa fa-square-o' aria-hidden='true'></i><i class='fa fa-square-o' aria-hidden='true'></i><i class='fa fa-square-o' aria-hidden='true'></i><i class='fa fa-square-o' aria-hidden='true'></i><i class='fa fa-square-o' aria-hidden='true'></i><i class='fa fa-square' aria-hidden='true'></i><i class='fa fa-square' aria-hidden='true'></i> - Number of open doors: 42 / 100"
      ],
      "text/plain": [
       "<IPython.core.display.HTML object>"
      ]
     },
     "metadata": {},
     "output_type": "display_data"
    }
   ],
   "source": [
    "s6 = elf(2, s5)\n",
    "look(6, s6)"
   ]
  },
  {
   "cell_type": "code",
   "execution_count": 266,
   "id": "370bc061-c93d-4c0e-bbbf-8e73184b7d24",
   "metadata": {},
   "outputs": [
    {
     "data": {
      "text/html": [
       "7 : <i class='fa fa-square-o' aria-hidden='true'></i><i class='fa fa-square-o' aria-hidden='true'></i><i class='fa fa-square-o' aria-hidden='true'></i><i class='fa fa-square' aria-hidden='true'></i><i class='fa fa-square-o' aria-hidden='true'></i><i class='fa fa-square-o' aria-hidden='true'></i><i class='fa fa-square-o' aria-hidden='true'></i><i class='fa fa-square' aria-hidden='true'></i><i class='fa fa-square-o' aria-hidden='true'></i><i class='fa fa-square-o' aria-hidden='true'></i><i class='fa fa-square-o' aria-hidden='true'></i><i class='fa fa-square' aria-hidden='true'></i><i class='fa fa-square-o' aria-hidden='true'></i><i class='fa fa-square-o' aria-hidden='true'></i><i class='fa fa-square-o' aria-hidden='true'></i><i class='fa fa-square' aria-hidden='true'></i><i class='fa fa-square-o' aria-hidden='true'></i><i class='fa fa-square-o' aria-hidden='true'></i><i class='fa fa-square-o' aria-hidden='true'></i><i class='fa fa-square' aria-hidden='true'></i><i class='fa fa-square-o' aria-hidden='true'></i><i class='fa fa-square-o' aria-hidden='true'></i><i class='fa fa-square-o' aria-hidden='true'></i><i class='fa fa-square' aria-hidden='true'></i><i class='fa fa-square-o' aria-hidden='true'></i><i class='fa fa-square-o' aria-hidden='true'></i><i class='fa fa-square-o' aria-hidden='true'></i><i class='fa fa-square' aria-hidden='true'></i><i class='fa fa-square-o' aria-hidden='true'></i><i class='fa fa-square-o' aria-hidden='true'></i><i class='fa fa-square-o' aria-hidden='true'></i><i class='fa fa-square' aria-hidden='true'></i><i class='fa fa-square-o' aria-hidden='true'></i><i class='fa fa-square-o' aria-hidden='true'></i><i class='fa fa-square-o' aria-hidden='true'></i><i class='fa fa-square' aria-hidden='true'></i><i class='fa fa-square-o' aria-hidden='true'></i><i class='fa fa-square-o' aria-hidden='true'></i><i class='fa fa-square-o' aria-hidden='true'></i><i class='fa fa-square' aria-hidden='true'></i><i class='fa fa-square-o' aria-hidden='true'></i><i class='fa fa-square-o' aria-hidden='true'></i><i class='fa fa-square-o' aria-hidden='true'></i><i class='fa fa-square' aria-hidden='true'></i><i class='fa fa-square-o' aria-hidden='true'></i><i class='fa fa-square-o' aria-hidden='true'></i><i class='fa fa-square-o' aria-hidden='true'></i><i class='fa fa-square' aria-hidden='true'></i><i class='fa fa-square-o' aria-hidden='true'></i><i class='fa fa-square-o' aria-hidden='true'></i><i class='fa fa-square-o' aria-hidden='true'></i><i class='fa fa-square' aria-hidden='true'></i><i class='fa fa-square-o' aria-hidden='true'></i><i class='fa fa-square-o' aria-hidden='true'></i><i class='fa fa-square-o' aria-hidden='true'></i><i class='fa fa-square' aria-hidden='true'></i><i class='fa fa-square-o' aria-hidden='true'></i><i class='fa fa-square-o' aria-hidden='true'></i><i class='fa fa-square-o' aria-hidden='true'></i><i class='fa fa-square' aria-hidden='true'></i><i class='fa fa-square-o' aria-hidden='true'></i><i class='fa fa-square-o' aria-hidden='true'></i><i class='fa fa-square-o' aria-hidden='true'></i><i class='fa fa-square' aria-hidden='true'></i><i class='fa fa-square-o' aria-hidden='true'></i><i class='fa fa-square-o' aria-hidden='true'></i><i class='fa fa-square-o' aria-hidden='true'></i><i class='fa fa-square' aria-hidden='true'></i><i class='fa fa-square-o' aria-hidden='true'></i><i class='fa fa-square-o' aria-hidden='true'></i><i class='fa fa-square-o' aria-hidden='true'></i><i class='fa fa-square' aria-hidden='true'></i><i class='fa fa-square-o' aria-hidden='true'></i><i class='fa fa-square-o' aria-hidden='true'></i><i class='fa fa-square-o' aria-hidden='true'></i><i class='fa fa-square' aria-hidden='true'></i><i class='fa fa-square-o' aria-hidden='true'></i><i class='fa fa-square-o' aria-hidden='true'></i><i class='fa fa-square-o' aria-hidden='true'></i><i class='fa fa-square' aria-hidden='true'></i><i class='fa fa-square-o' aria-hidden='true'></i><i class='fa fa-square-o' aria-hidden='true'></i><i class='fa fa-square-o' aria-hidden='true'></i><i class='fa fa-square' aria-hidden='true'></i><i class='fa fa-square-o' aria-hidden='true'></i><i class='fa fa-square-o' aria-hidden='true'></i><i class='fa fa-square-o' aria-hidden='true'></i><i class='fa fa-square' aria-hidden='true'></i><i class='fa fa-square-o' aria-hidden='true'></i><i class='fa fa-square-o' aria-hidden='true'></i><i class='fa fa-square-o' aria-hidden='true'></i><i class='fa fa-square' aria-hidden='true'></i><i class='fa fa-square-o' aria-hidden='true'></i><i class='fa fa-square-o' aria-hidden='true'></i><i class='fa fa-square-o' aria-hidden='true'></i><i class='fa fa-square' aria-hidden='true'></i><i class='fa fa-square-o' aria-hidden='true'></i><i class='fa fa-square-o' aria-hidden='true'></i><i class='fa fa-square-o' aria-hidden='true'></i><i class='fa fa-square' aria-hidden='true'></i> - Number of open doors: 25 / 100"
      ],
      "text/plain": [
       "<IPython.core.display.HTML object>"
      ]
     },
     "metadata": {},
     "output_type": "display_data"
    }
   ],
   "source": [
    "s7 = elf(3, s6)\n",
    "look(7, s7)"
   ]
  },
  {
   "cell_type": "code",
   "execution_count": 267,
   "id": "42490a41-fa7f-4861-be71-23b763987e33",
   "metadata": {},
   "outputs": [
    {
     "data": {
      "text/html": [
       "8 : <i class='fa fa-square-o' aria-hidden='true'></i><i class='fa fa-square-o' aria-hidden='true'></i><i class='fa fa-square-o' aria-hidden='true'></i><i class='fa fa-square-o' aria-hidden='true'></i><i class='fa fa-square-o' aria-hidden='true'></i><i class='fa fa-square-o' aria-hidden='true'></i><i class='fa fa-square-o' aria-hidden='true'></i><i class='fa fa-square-o' aria-hidden='true'></i><i class='fa fa-square-o' aria-hidden='true'></i><i class='fa fa-square-o' aria-hidden='true'></i><i class='fa fa-square-o' aria-hidden='true'></i><i class='fa fa-square-o' aria-hidden='true'></i><i class='fa fa-square-o' aria-hidden='true'></i><i class='fa fa-square-o' aria-hidden='true'></i><i class='fa fa-square-o' aria-hidden='true'></i><i class='fa fa-square-o' aria-hidden='true'></i><i class='fa fa-square-o' aria-hidden='true'></i><i class='fa fa-square-o' aria-hidden='true'></i><i class='fa fa-square-o' aria-hidden='true'></i><i class='fa fa-square-o' aria-hidden='true'></i><i class='fa fa-square-o' aria-hidden='true'></i><i class='fa fa-square-o' aria-hidden='true'></i><i class='fa fa-square-o' aria-hidden='true'></i><i class='fa fa-square-o' aria-hidden='true'></i><i class='fa fa-square-o' aria-hidden='true'></i><i class='fa fa-square-o' aria-hidden='true'></i><i class='fa fa-square-o' aria-hidden='true'></i><i class='fa fa-square-o' aria-hidden='true'></i><i class='fa fa-square-o' aria-hidden='true'></i><i class='fa fa-square-o' aria-hidden='true'></i><i class='fa fa-square-o' aria-hidden='true'></i><i class='fa fa-square-o' aria-hidden='true'></i><i class='fa fa-square-o' aria-hidden='true'></i><i class='fa fa-square-o' aria-hidden='true'></i><i class='fa fa-square-o' aria-hidden='true'></i><i class='fa fa-square-o' aria-hidden='true'></i><i class='fa fa-square-o' aria-hidden='true'></i><i class='fa fa-square-o' aria-hidden='true'></i><i class='fa fa-square-o' aria-hidden='true'></i><i class='fa fa-square-o' aria-hidden='true'></i><i class='fa fa-square-o' aria-hidden='true'></i><i class='fa fa-square-o' aria-hidden='true'></i><i class='fa fa-square-o' aria-hidden='true'></i><i class='fa fa-square-o' aria-hidden='true'></i><i class='fa fa-square-o' aria-hidden='true'></i><i class='fa fa-square-o' aria-hidden='true'></i><i class='fa fa-square-o' aria-hidden='true'></i><i class='fa fa-square-o' aria-hidden='true'></i><i class='fa fa-square-o' aria-hidden='true'></i><i class='fa fa-square-o' aria-hidden='true'></i><i class='fa fa-square-o' aria-hidden='true'></i><i class='fa fa-square-o' aria-hidden='true'></i><i class='fa fa-square-o' aria-hidden='true'></i><i class='fa fa-square-o' aria-hidden='true'></i><i class='fa fa-square-o' aria-hidden='true'></i><i class='fa fa-square-o' aria-hidden='true'></i><i class='fa fa-square-o' aria-hidden='true'></i><i class='fa fa-square-o' aria-hidden='true'></i><i class='fa fa-square-o' aria-hidden='true'></i><i class='fa fa-square-o' aria-hidden='true'></i><i class='fa fa-square-o' aria-hidden='true'></i><i class='fa fa-square-o' aria-hidden='true'></i><i class='fa fa-square-o' aria-hidden='true'></i><i class='fa fa-square-o' aria-hidden='true'></i><i class='fa fa-square-o' aria-hidden='true'></i><i class='fa fa-square-o' aria-hidden='true'></i><i class='fa fa-square-o' aria-hidden='true'></i><i class='fa fa-square-o' aria-hidden='true'></i><i class='fa fa-square-o' aria-hidden='true'></i><i class='fa fa-square-o' aria-hidden='true'></i><i class='fa fa-square-o' aria-hidden='true'></i><i class='fa fa-square-o' aria-hidden='true'></i><i class='fa fa-square-o' aria-hidden='true'></i><i class='fa fa-square-o' aria-hidden='true'></i><i class='fa fa-square-o' aria-hidden='true'></i><i class='fa fa-square-o' aria-hidden='true'></i><i class='fa fa-square-o' aria-hidden='true'></i><i class='fa fa-square-o' aria-hidden='true'></i><i class='fa fa-square-o' aria-hidden='true'></i><i class='fa fa-square-o' aria-hidden='true'></i><i class='fa fa-square-o' aria-hidden='true'></i><i class='fa fa-square-o' aria-hidden='true'></i><i class='fa fa-square-o' aria-hidden='true'></i><i class='fa fa-square-o' aria-hidden='true'></i><i class='fa fa-square-o' aria-hidden='true'></i><i class='fa fa-square-o' aria-hidden='true'></i><i class='fa fa-square-o' aria-hidden='true'></i><i class='fa fa-square-o' aria-hidden='true'></i><i class='fa fa-square-o' aria-hidden='true'></i><i class='fa fa-square-o' aria-hidden='true'></i><i class='fa fa-square-o' aria-hidden='true'></i><i class='fa fa-square-o' aria-hidden='true'></i><i class='fa fa-square-o' aria-hidden='true'></i><i class='fa fa-square-o' aria-hidden='true'></i><i class='fa fa-square-o' aria-hidden='true'></i><i class='fa fa-square-o' aria-hidden='true'></i><i class='fa fa-square-o' aria-hidden='true'></i><i class='fa fa-square-o' aria-hidden='true'></i><i class='fa fa-square-o' aria-hidden='true'></i><i class='fa fa-square-o' aria-hidden='true'></i> - Number of open doors: 0 / 100"
      ],
      "text/plain": [
       "<IPython.core.display.HTML object>"
      ]
     },
     "metadata": {},
     "output_type": "display_data"
    }
   ],
   "source": [
    "s8 = elf(4, s7)\n",
    "look(8, s8)"
   ]
  },
  {
   "cell_type": "code",
   "execution_count": 304,
   "id": "00d55db8-6655-4043-9aba-eadcf9fe55c1",
   "metadata": {},
   "outputs": [],
   "source": [
    "def calc_opendoors_in_100RoomHotel(elf_count):\n",
    "    open_doors = [100, 50, 49, 58, 42, 42, 25, 0]\n",
    "    return open_doors[(elf_count % 8) - 1] # -1 as open_doors is 0 based array"
   ]
  },
  {
   "cell_type": "code",
   "execution_count": 306,
   "id": "2b8149d5-1ed9-489a-8779-eb9eb6bcf648",
   "metadata": {},
   "outputs": [
    {
     "data": {
      "text/plain": [
       "42"
      ]
     },
     "execution_count": 306,
     "metadata": {},
     "output_type": "execute_result"
    }
   ],
   "source": [
    "calc_opendoors_in_100RoomHotel(750)"
   ]
  }
 ],
 "metadata": {
  "kernelspec": {
   "display_name": "Python 3 (ipykernel)",
   "language": "python",
   "name": "python3"
  },
  "language_info": {
   "codemirror_mode": {
    "name": "ipython",
    "version": 3
   },
   "file_extension": ".py",
   "mimetype": "text/x-python",
   "name": "python",
   "nbconvert_exporter": "python",
   "pygments_lexer": "ipython3",
   "version": "3.11.10"
  }
 },
 "nbformat": 4,
 "nbformat_minor": 5
}
